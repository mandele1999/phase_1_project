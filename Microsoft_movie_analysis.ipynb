{
 "cells": [
  {
   "cell_type": "markdown",
   "metadata": {},
   "source": [
    "# Microsoft Movie Analysis\n",
    "\n",
    "**Author:** Mandele Frank\n",
    "***\n",
    "## Overview\n",
    "This project is intended to help Microsoft make informed decisions on the type of movies to create in the new movie studio they wish to launch. It presents an Exploratory Data Analysis on data availed in various datasets by IMDB, The Numbers, Box Office Mojo on films, supplemented by visualizations including histograms, scatter plots, heatmaps, density plots that we can make inferences from to arrive at conclusions and make inferences from.\n",
    "***"
   ]
  },
  {
   "cell_type": "markdown",
   "metadata": {},
   "source": [
    "## Business Problem\n",
    "Microsoft has taken a keen interest in film production and wishes to create its own film studio but has limited knowledge of the film industry, this project hopes to serve a guide to help Microsoft make an informed decision as they hope to venture into film production.\n",
    "\n",
    "In a bid to shed some light on the problem, this project targets specific areas involved in film production such as film genres to better understand the categories that perform well, financial metrics e.g. Budgets and Revenues observed from films, viewer rating scores to have an idea on popular films, films durations and overall genres that dominate the flooded film industry.\n",
    "\n",
    "Questions to be addressed in this project include.\n",
    "* What are the top performing film genres in regards to financial metrics?\n",
    "* Which genres/collective genres have the highest/lowest ratings?\n",
    "* Which genres have the highest/lowest budgets required in production?\n",
    "* Which are the top performing studios in film production?\n",
    "***"
   ]
  },
  {
   "cell_type": "markdown",
   "metadata": {},
   "source": [
    "## Data Understanding\n",
    "This project features data sourced from: IMDB, The Numbers, and Box Office Mojo and aims to capture data on genres, production budgets, returns from films, viewer' ratings, film durations that is in the datasets from the aforementioned sources.\n",
    "***\n"
   ]
  },
  {
   "cell_type": "markdown",
   "metadata": {},
   "source": [
    "#### Importing Libraries and Loading the Dataset"
   ]
  },
  {
   "cell_type": "code",
   "execution_count": 37,
   "metadata": {},
   "outputs": [],
   "source": [
    "#importing libraries\n",
    "import pandas as pd\n",
    "import numpy as np\n",
    "import matplotlib.pyplot as plt\n",
    "import seaborn as sns\n",
    "%matplotlib inline "
   ]
  },
  {
   "cell_type": "markdown",
   "metadata": {},
   "source": [
    "#### Loading Datasets on Title and Ratings"
   ]
  },
  {
   "cell_type": "code",
   "execution_count": 38,
   "metadata": {},
   "outputs": [
    {
     "data": {
      "text/html": [
       "<div>\n",
       "<style scoped>\n",
       "    .dataframe tbody tr th:only-of-type {\n",
       "        vertical-align: middle;\n",
       "    }\n",
       "\n",
       "    .dataframe tbody tr th {\n",
       "        vertical-align: top;\n",
       "    }\n",
       "\n",
       "    .dataframe thead th {\n",
       "        text-align: right;\n",
       "    }\n",
       "</style>\n",
       "<table border=\"1\" class=\"dataframe\">\n",
       "  <thead>\n",
       "    <tr style=\"text-align: right;\">\n",
       "      <th></th>\n",
       "      <th>tconst</th>\n",
       "      <th>averagerating</th>\n",
       "      <th>numvotes</th>\n",
       "    </tr>\n",
       "  </thead>\n",
       "  <tbody>\n",
       "    <tr>\n",
       "      <th>0</th>\n",
       "      <td>tt10356526</td>\n",
       "      <td>8.3</td>\n",
       "      <td>31</td>\n",
       "    </tr>\n",
       "    <tr>\n",
       "      <th>1</th>\n",
       "      <td>tt10384606</td>\n",
       "      <td>8.9</td>\n",
       "      <td>559</td>\n",
       "    </tr>\n",
       "    <tr>\n",
       "      <th>2</th>\n",
       "      <td>tt1042974</td>\n",
       "      <td>6.4</td>\n",
       "      <td>20</td>\n",
       "    </tr>\n",
       "    <tr>\n",
       "      <th>3</th>\n",
       "      <td>tt1043726</td>\n",
       "      <td>4.2</td>\n",
       "      <td>50352</td>\n",
       "    </tr>\n",
       "    <tr>\n",
       "      <th>4</th>\n",
       "      <td>tt1060240</td>\n",
       "      <td>6.5</td>\n",
       "      <td>21</td>\n",
       "    </tr>\n",
       "  </tbody>\n",
       "</table>\n",
       "</div>"
      ],
      "text/plain": [
       "       tconst  averagerating  numvotes\n",
       "0  tt10356526            8.3        31\n",
       "1  tt10384606            8.9       559\n",
       "2   tt1042974            6.4        20\n",
       "3   tt1043726            4.2     50352\n",
       "4   tt1060240            6.5        21"
      ]
     },
     "execution_count": 38,
     "metadata": {},
     "output_type": "execute_result"
    }
   ],
   "source": [
    "#importing ratings data\n",
    "df = pd.read_csv('title.ratings.csv')\n",
    "df.shape # (73856, 3)\n",
    "df.head()"
   ]
  },
  {
   "cell_type": "code",
   "execution_count": 39,
   "metadata": {},
   "outputs": [
    {
     "data": {
      "text/html": [
       "<div>\n",
       "<style scoped>\n",
       "    .dataframe tbody tr th:only-of-type {\n",
       "        vertical-align: middle;\n",
       "    }\n",
       "\n",
       "    .dataframe tbody tr th {\n",
       "        vertical-align: top;\n",
       "    }\n",
       "\n",
       "    .dataframe thead th {\n",
       "        text-align: right;\n",
       "    }\n",
       "</style>\n",
       "<table border=\"1\" class=\"dataframe\">\n",
       "  <thead>\n",
       "    <tr style=\"text-align: right;\">\n",
       "      <th></th>\n",
       "      <th>tconst</th>\n",
       "      <th>primary_title</th>\n",
       "      <th>original_title</th>\n",
       "      <th>start_year</th>\n",
       "      <th>runtime_minutes</th>\n",
       "      <th>genres</th>\n",
       "    </tr>\n",
       "  </thead>\n",
       "  <tbody>\n",
       "    <tr>\n",
       "      <th>0</th>\n",
       "      <td>tt0063540</td>\n",
       "      <td>Sunghursh</td>\n",
       "      <td>Sunghursh</td>\n",
       "      <td>2013</td>\n",
       "      <td>175.0</td>\n",
       "      <td>Action,Crime,Drama</td>\n",
       "    </tr>\n",
       "    <tr>\n",
       "      <th>1</th>\n",
       "      <td>tt0066787</td>\n",
       "      <td>One Day Before the Rainy Season</td>\n",
       "      <td>Ashad Ka Ek Din</td>\n",
       "      <td>2019</td>\n",
       "      <td>114.0</td>\n",
       "      <td>Biography,Drama</td>\n",
       "    </tr>\n",
       "    <tr>\n",
       "      <th>2</th>\n",
       "      <td>tt0069049</td>\n",
       "      <td>The Other Side of the Wind</td>\n",
       "      <td>The Other Side of the Wind</td>\n",
       "      <td>2018</td>\n",
       "      <td>122.0</td>\n",
       "      <td>Drama</td>\n",
       "    </tr>\n",
       "    <tr>\n",
       "      <th>3</th>\n",
       "      <td>tt0069204</td>\n",
       "      <td>Sabse Bada Sukh</td>\n",
       "      <td>Sabse Bada Sukh</td>\n",
       "      <td>2018</td>\n",
       "      <td>NaN</td>\n",
       "      <td>Comedy,Drama</td>\n",
       "    </tr>\n",
       "    <tr>\n",
       "      <th>4</th>\n",
       "      <td>tt0100275</td>\n",
       "      <td>The Wandering Soap Opera</td>\n",
       "      <td>La Telenovela Errante</td>\n",
       "      <td>2017</td>\n",
       "      <td>80.0</td>\n",
       "      <td>Comedy,Drama,Fantasy</td>\n",
       "    </tr>\n",
       "  </tbody>\n",
       "</table>\n",
       "</div>"
      ],
      "text/plain": [
       "      tconst                    primary_title              original_title  \\\n",
       "0  tt0063540                        Sunghursh                   Sunghursh   \n",
       "1  tt0066787  One Day Before the Rainy Season             Ashad Ka Ek Din   \n",
       "2  tt0069049       The Other Side of the Wind  The Other Side of the Wind   \n",
       "3  tt0069204                  Sabse Bada Sukh             Sabse Bada Sukh   \n",
       "4  tt0100275         The Wandering Soap Opera       La Telenovela Errante   \n",
       "\n",
       "   start_year  runtime_minutes                genres  \n",
       "0        2013            175.0    Action,Crime,Drama  \n",
       "1        2019            114.0       Biography,Drama  \n",
       "2        2018            122.0                 Drama  \n",
       "3        2018              NaN          Comedy,Drama  \n",
       "4        2017             80.0  Comedy,Drama,Fantasy  "
      ]
     },
     "execution_count": 39,
     "metadata": {},
     "output_type": "execute_result"
    }
   ],
   "source": [
    "#importing titles data\n",
    "df1 = pd.read_csv('title.basics.csv')\n",
    "df1.shape #(146144, 6)\n",
    "df1.head()"
   ]
  },
  {
   "cell_type": "markdown",
   "metadata": {},
   "source": [
    "#### Merging Ratings with Titles Data"
   ]
  },
  {
   "cell_type": "code",
   "execution_count": 40,
   "metadata": {},
   "outputs": [
    {
     "data": {
      "text/html": [
       "<div>\n",
       "<style scoped>\n",
       "    .dataframe tbody tr th:only-of-type {\n",
       "        vertical-align: middle;\n",
       "    }\n",
       "\n",
       "    .dataframe tbody tr th {\n",
       "        vertical-align: top;\n",
       "    }\n",
       "\n",
       "    .dataframe thead th {\n",
       "        text-align: right;\n",
       "    }\n",
       "</style>\n",
       "<table border=\"1\" class=\"dataframe\">\n",
       "  <thead>\n",
       "    <tr style=\"text-align: right;\">\n",
       "      <th></th>\n",
       "      <th>tconst</th>\n",
       "      <th>averagerating</th>\n",
       "      <th>numvotes</th>\n",
       "      <th>primary_title</th>\n",
       "      <th>original_title</th>\n",
       "      <th>start_year</th>\n",
       "      <th>runtime_minutes</th>\n",
       "      <th>genres</th>\n",
       "    </tr>\n",
       "  </thead>\n",
       "  <tbody>\n",
       "    <tr>\n",
       "      <th>0</th>\n",
       "      <td>tt10356526</td>\n",
       "      <td>8.3</td>\n",
       "      <td>31</td>\n",
       "      <td>Laiye Je Yaarian</td>\n",
       "      <td>Laiye Je Yaarian</td>\n",
       "      <td>2019</td>\n",
       "      <td>117.0</td>\n",
       "      <td>Romance</td>\n",
       "    </tr>\n",
       "    <tr>\n",
       "      <th>1</th>\n",
       "      <td>tt10384606</td>\n",
       "      <td>8.9</td>\n",
       "      <td>559</td>\n",
       "      <td>Borderless</td>\n",
       "      <td>Borderless</td>\n",
       "      <td>2019</td>\n",
       "      <td>87.0</td>\n",
       "      <td>Documentary</td>\n",
       "    </tr>\n",
       "    <tr>\n",
       "      <th>2</th>\n",
       "      <td>tt1042974</td>\n",
       "      <td>6.4</td>\n",
       "      <td>20</td>\n",
       "      <td>Just Inès</td>\n",
       "      <td>Just Inès</td>\n",
       "      <td>2010</td>\n",
       "      <td>90.0</td>\n",
       "      <td>Drama</td>\n",
       "    </tr>\n",
       "    <tr>\n",
       "      <th>3</th>\n",
       "      <td>tt1043726</td>\n",
       "      <td>4.2</td>\n",
       "      <td>50352</td>\n",
       "      <td>The Legend of Hercules</td>\n",
       "      <td>The Legend of Hercules</td>\n",
       "      <td>2014</td>\n",
       "      <td>99.0</td>\n",
       "      <td>Action,Adventure,Fantasy</td>\n",
       "    </tr>\n",
       "    <tr>\n",
       "      <th>4</th>\n",
       "      <td>tt1060240</td>\n",
       "      <td>6.5</td>\n",
       "      <td>21</td>\n",
       "      <td>Até Onde?</td>\n",
       "      <td>Até Onde?</td>\n",
       "      <td>2011</td>\n",
       "      <td>73.0</td>\n",
       "      <td>Mystery,Thriller</td>\n",
       "    </tr>\n",
       "  </tbody>\n",
       "</table>\n",
       "</div>"
      ],
      "text/plain": [
       "       tconst  averagerating  numvotes           primary_title  \\\n",
       "0  tt10356526            8.3        31        Laiye Je Yaarian   \n",
       "1  tt10384606            8.9       559              Borderless   \n",
       "2   tt1042974            6.4        20               Just Inès   \n",
       "3   tt1043726            4.2     50352  The Legend of Hercules   \n",
       "4   tt1060240            6.5        21               Até Onde?   \n",
       "\n",
       "           original_title  start_year  runtime_minutes  \\\n",
       "0        Laiye Je Yaarian        2019            117.0   \n",
       "1              Borderless        2019             87.0   \n",
       "2               Just Inès        2010             90.0   \n",
       "3  The Legend of Hercules        2014             99.0   \n",
       "4               Até Onde?        2011             73.0   \n",
       "\n",
       "                     genres  \n",
       "0                   Romance  \n",
       "1               Documentary  \n",
       "2                     Drama  \n",
       "3  Action,Adventure,Fantasy  \n",
       "4          Mystery,Thriller  "
      ]
     },
     "execution_count": 40,
     "metadata": {},
     "output_type": "execute_result"
    }
   ],
   "source": [
    "#performing 'inner' merge of the two dataframes on column 'tconst'\n",
    "df1_2 = pd.merge(df, df1, on='tconst', how='inner')\n",
    "df1.shape #(1446144, 6)\n",
    "df1_2.head()"
   ]
  },
  {
   "cell_type": "markdown",
   "metadata": {},
   "source": [
    "#### Loading Datasets on Gross Returns"
   ]
  },
  {
   "cell_type": "code",
   "execution_count": 41,
   "metadata": {},
   "outputs": [
    {
     "data": {
      "text/html": [
       "<div>\n",
       "<style scoped>\n",
       "    .dataframe tbody tr th:only-of-type {\n",
       "        vertical-align: middle;\n",
       "    }\n",
       "\n",
       "    .dataframe tbody tr th {\n",
       "        vertical-align: top;\n",
       "    }\n",
       "\n",
       "    .dataframe thead th {\n",
       "        text-align: right;\n",
       "    }\n",
       "</style>\n",
       "<table border=\"1\" class=\"dataframe\">\n",
       "  <thead>\n",
       "    <tr style=\"text-align: right;\">\n",
       "      <th></th>\n",
       "      <th>title</th>\n",
       "      <th>studio</th>\n",
       "      <th>domestic_gross</th>\n",
       "      <th>foreign_gross</th>\n",
       "      <th>year</th>\n",
       "    </tr>\n",
       "  </thead>\n",
       "  <tbody>\n",
       "    <tr>\n",
       "      <th>0</th>\n",
       "      <td>Toy Story 3</td>\n",
       "      <td>BV</td>\n",
       "      <td>415000000.0</td>\n",
       "      <td>652000000</td>\n",
       "      <td>2010</td>\n",
       "    </tr>\n",
       "    <tr>\n",
       "      <th>1</th>\n",
       "      <td>Alice in Wonderland (2010)</td>\n",
       "      <td>BV</td>\n",
       "      <td>334200000.0</td>\n",
       "      <td>691300000</td>\n",
       "      <td>2010</td>\n",
       "    </tr>\n",
       "    <tr>\n",
       "      <th>2</th>\n",
       "      <td>Harry Potter and the Deathly Hallows Part 1</td>\n",
       "      <td>WB</td>\n",
       "      <td>296000000.0</td>\n",
       "      <td>664300000</td>\n",
       "      <td>2010</td>\n",
       "    </tr>\n",
       "    <tr>\n",
       "      <th>3</th>\n",
       "      <td>Inception</td>\n",
       "      <td>WB</td>\n",
       "      <td>292600000.0</td>\n",
       "      <td>535700000</td>\n",
       "      <td>2010</td>\n",
       "    </tr>\n",
       "    <tr>\n",
       "      <th>4</th>\n",
       "      <td>Shrek Forever After</td>\n",
       "      <td>P/DW</td>\n",
       "      <td>238700000.0</td>\n",
       "      <td>513900000</td>\n",
       "      <td>2010</td>\n",
       "    </tr>\n",
       "  </tbody>\n",
       "</table>\n",
       "</div>"
      ],
      "text/plain": [
       "                                         title studio  domestic_gross  \\\n",
       "0                                  Toy Story 3     BV     415000000.0   \n",
       "1                   Alice in Wonderland (2010)     BV     334200000.0   \n",
       "2  Harry Potter and the Deathly Hallows Part 1     WB     296000000.0   \n",
       "3                                    Inception     WB     292600000.0   \n",
       "4                          Shrek Forever After   P/DW     238700000.0   \n",
       "\n",
       "  foreign_gross  year  \n",
       "0     652000000  2010  \n",
       "1     691300000  2010  \n",
       "2     664300000  2010  \n",
       "3     535700000  2010  \n",
       "4     513900000  2010  "
      ]
     },
     "execution_count": 41,
     "metadata": {},
     "output_type": "execute_result"
    }
   ],
   "source": [
    "#Loading gross data\n",
    "df3 = pd.read_csv('bom.movie_gross.csv')\n",
    "df3.head()#3387 records, missing records in foreign gross = 1350, domestic gross = 28"
   ]
  },
  {
   "cell_type": "markdown",
   "metadata": {},
   "source": [
    "#### Merging Gross Data with Titles-Rating Data"
   ]
  },
  {
   "cell_type": "code",
   "execution_count": 42,
   "metadata": {},
   "outputs": [
    {
     "data": {
      "text/html": [
       "<div>\n",
       "<style scoped>\n",
       "    .dataframe tbody tr th:only-of-type {\n",
       "        vertical-align: middle;\n",
       "    }\n",
       "\n",
       "    .dataframe tbody tr th {\n",
       "        vertical-align: top;\n",
       "    }\n",
       "\n",
       "    .dataframe thead th {\n",
       "        text-align: right;\n",
       "    }\n",
       "</style>\n",
       "<table border=\"1\" class=\"dataframe\">\n",
       "  <thead>\n",
       "    <tr style=\"text-align: right;\">\n",
       "      <th></th>\n",
       "      <th>primary_title</th>\n",
       "      <th>studio</th>\n",
       "      <th>domestic_gross</th>\n",
       "      <th>foreign_gross</th>\n",
       "      <th>year</th>\n",
       "      <th>tconst</th>\n",
       "      <th>averagerating</th>\n",
       "      <th>numvotes</th>\n",
       "      <th>original_title</th>\n",
       "      <th>start_year</th>\n",
       "      <th>runtime_minutes</th>\n",
       "      <th>genres</th>\n",
       "    </tr>\n",
       "  </thead>\n",
       "  <tbody>\n",
       "    <tr>\n",
       "      <th>0</th>\n",
       "      <td>Toy Story 3</td>\n",
       "      <td>BV</td>\n",
       "      <td>415000000.0</td>\n",
       "      <td>652000000</td>\n",
       "      <td>2010</td>\n",
       "      <td>tt0435761</td>\n",
       "      <td>8.3</td>\n",
       "      <td>682218</td>\n",
       "      <td>Toy Story 3</td>\n",
       "      <td>2010</td>\n",
       "      <td>103.0</td>\n",
       "      <td>Adventure,Animation,Comedy</td>\n",
       "    </tr>\n",
       "    <tr>\n",
       "      <th>1</th>\n",
       "      <td>Inception</td>\n",
       "      <td>WB</td>\n",
       "      <td>292600000.0</td>\n",
       "      <td>535700000</td>\n",
       "      <td>2010</td>\n",
       "      <td>tt1375666</td>\n",
       "      <td>8.8</td>\n",
       "      <td>1841066</td>\n",
       "      <td>Inception</td>\n",
       "      <td>2010</td>\n",
       "      <td>148.0</td>\n",
       "      <td>Action,Adventure,Sci-Fi</td>\n",
       "    </tr>\n",
       "    <tr>\n",
       "      <th>2</th>\n",
       "      <td>Shrek Forever After</td>\n",
       "      <td>P/DW</td>\n",
       "      <td>238700000.0</td>\n",
       "      <td>513900000</td>\n",
       "      <td>2010</td>\n",
       "      <td>tt0892791</td>\n",
       "      <td>6.3</td>\n",
       "      <td>167532</td>\n",
       "      <td>Shrek Forever After</td>\n",
       "      <td>2010</td>\n",
       "      <td>93.0</td>\n",
       "      <td>Adventure,Animation,Comedy</td>\n",
       "    </tr>\n",
       "    <tr>\n",
       "      <th>3</th>\n",
       "      <td>The Twilight Saga: Eclipse</td>\n",
       "      <td>Sum.</td>\n",
       "      <td>300500000.0</td>\n",
       "      <td>398000000</td>\n",
       "      <td>2010</td>\n",
       "      <td>tt1325004</td>\n",
       "      <td>5.0</td>\n",
       "      <td>211733</td>\n",
       "      <td>The Twilight Saga: Eclipse</td>\n",
       "      <td>2010</td>\n",
       "      <td>124.0</td>\n",
       "      <td>Adventure,Drama,Fantasy</td>\n",
       "    </tr>\n",
       "    <tr>\n",
       "      <th>4</th>\n",
       "      <td>Iron Man 2</td>\n",
       "      <td>Par.</td>\n",
       "      <td>312400000.0</td>\n",
       "      <td>311500000</td>\n",
       "      <td>2010</td>\n",
       "      <td>tt1228705</td>\n",
       "      <td>7.0</td>\n",
       "      <td>657690</td>\n",
       "      <td>Iron Man 2</td>\n",
       "      <td>2010</td>\n",
       "      <td>124.0</td>\n",
       "      <td>Action,Adventure,Sci-Fi</td>\n",
       "    </tr>\n",
       "  </tbody>\n",
       "</table>\n",
       "</div>"
      ],
      "text/plain": [
       "                primary_title studio  domestic_gross foreign_gross  year  \\\n",
       "0                 Toy Story 3     BV     415000000.0     652000000  2010   \n",
       "1                   Inception     WB     292600000.0     535700000  2010   \n",
       "2         Shrek Forever After   P/DW     238700000.0     513900000  2010   \n",
       "3  The Twilight Saga: Eclipse   Sum.     300500000.0     398000000  2010   \n",
       "4                  Iron Man 2   Par.     312400000.0     311500000  2010   \n",
       "\n",
       "      tconst  averagerating  numvotes              original_title  start_year  \\\n",
       "0  tt0435761            8.3    682218                 Toy Story 3        2010   \n",
       "1  tt1375666            8.8   1841066                   Inception        2010   \n",
       "2  tt0892791            6.3    167532         Shrek Forever After        2010   \n",
       "3  tt1325004            5.0    211733  The Twilight Saga: Eclipse        2010   \n",
       "4  tt1228705            7.0    657690                  Iron Man 2        2010   \n",
       "\n",
       "   runtime_minutes                      genres  \n",
       "0            103.0  Adventure,Animation,Comedy  \n",
       "1            148.0     Action,Adventure,Sci-Fi  \n",
       "2             93.0  Adventure,Animation,Comedy  \n",
       "3            124.0     Adventure,Drama,Fantasy  \n",
       "4            124.0     Action,Adventure,Sci-Fi  "
      ]
     },
     "execution_count": 42,
     "metadata": {},
     "output_type": "execute_result"
    }
   ],
   "source": [
    "#Renaming column to be merged on\n",
    "df3.rename({'title':'primary_title'}, axis=1, inplace=True)\n",
    "\n",
    "#checking changes in column names\n",
    "df3.columns #Index(['primary_title', 'studio', 'domestic_gross', 'foreign_gross', 'year'], dtype='object')\n",
    "\n",
    "#Checking changes in number of records\n",
    "df3.shape #(3387, 5)\n",
    "\n",
    "#performing merge\n",
    "df_123 = pd.merge(df3, df1_2, on='primary_title', how='inner')\n",
    "df_123.head()"
   ]
  },
  {
   "cell_type": "markdown",
   "metadata": {},
   "source": [
    "#### Budgets Data"
   ]
  },
  {
   "cell_type": "code",
   "execution_count": 43,
   "metadata": {},
   "outputs": [
    {
     "data": {
      "text/html": [
       "<div>\n",
       "<style scoped>\n",
       "    .dataframe tbody tr th:only-of-type {\n",
       "        vertical-align: middle;\n",
       "    }\n",
       "\n",
       "    .dataframe tbody tr th {\n",
       "        vertical-align: top;\n",
       "    }\n",
       "\n",
       "    .dataframe thead th {\n",
       "        text-align: right;\n",
       "    }\n",
       "</style>\n",
       "<table border=\"1\" class=\"dataframe\">\n",
       "  <thead>\n",
       "    <tr style=\"text-align: right;\">\n",
       "      <th></th>\n",
       "      <th>id</th>\n",
       "      <th>release_date</th>\n",
       "      <th>movie</th>\n",
       "      <th>production_budget</th>\n",
       "      <th>domestic_gross</th>\n",
       "      <th>worldwide_gross</th>\n",
       "    </tr>\n",
       "  </thead>\n",
       "  <tbody>\n",
       "    <tr>\n",
       "      <th>0</th>\n",
       "      <td>1</td>\n",
       "      <td>Dec 18, 2009</td>\n",
       "      <td>Avatar</td>\n",
       "      <td>$425,000,000</td>\n",
       "      <td>$760,507,625</td>\n",
       "      <td>$2,776,345,279</td>\n",
       "    </tr>\n",
       "    <tr>\n",
       "      <th>1</th>\n",
       "      <td>2</td>\n",
       "      <td>May 20, 2011</td>\n",
       "      <td>Pirates of the Caribbean: On Stranger Tides</td>\n",
       "      <td>$410,600,000</td>\n",
       "      <td>$241,063,875</td>\n",
       "      <td>$1,045,663,875</td>\n",
       "    </tr>\n",
       "    <tr>\n",
       "      <th>2</th>\n",
       "      <td>3</td>\n",
       "      <td>Jun 7, 2019</td>\n",
       "      <td>Dark Phoenix</td>\n",
       "      <td>$350,000,000</td>\n",
       "      <td>$42,762,350</td>\n",
       "      <td>$149,762,350</td>\n",
       "    </tr>\n",
       "    <tr>\n",
       "      <th>3</th>\n",
       "      <td>4</td>\n",
       "      <td>May 1, 2015</td>\n",
       "      <td>Avengers: Age of Ultron</td>\n",
       "      <td>$330,600,000</td>\n",
       "      <td>$459,005,868</td>\n",
       "      <td>$1,403,013,963</td>\n",
       "    </tr>\n",
       "    <tr>\n",
       "      <th>4</th>\n",
       "      <td>5</td>\n",
       "      <td>Dec 15, 2017</td>\n",
       "      <td>Star Wars Ep. VIII: The Last Jedi</td>\n",
       "      <td>$317,000,000</td>\n",
       "      <td>$620,181,382</td>\n",
       "      <td>$1,316,721,747</td>\n",
       "    </tr>\n",
       "  </tbody>\n",
       "</table>\n",
       "</div>"
      ],
      "text/plain": [
       "   id  release_date                                        movie  \\\n",
       "0   1  Dec 18, 2009                                       Avatar   \n",
       "1   2  May 20, 2011  Pirates of the Caribbean: On Stranger Tides   \n",
       "2   3   Jun 7, 2019                                 Dark Phoenix   \n",
       "3   4   May 1, 2015                      Avengers: Age of Ultron   \n",
       "4   5  Dec 15, 2017            Star Wars Ep. VIII: The Last Jedi   \n",
       "\n",
       "  production_budget domestic_gross worldwide_gross  \n",
       "0      $425,000,000   $760,507,625  $2,776,345,279  \n",
       "1      $410,600,000   $241,063,875  $1,045,663,875  \n",
       "2      $350,000,000    $42,762,350    $149,762,350  \n",
       "3      $330,600,000   $459,005,868  $1,403,013,963  \n",
       "4      $317,000,000   $620,181,382  $1,316,721,747  "
      ]
     },
     "execution_count": 43,
     "metadata": {},
     "output_type": "execute_result"
    }
   ],
   "source": [
    "#Loading data\n",
    "df4 = pd.read_csv('tn.movie_budgets.csv')# 5782 rows × 6 columns\n",
    "df4.head()"
   ]
  },
  {
   "cell_type": "markdown",
   "metadata": {},
   "source": [
    "#### Merging with Budgets Data"
   ]
  },
  {
   "cell_type": "code",
   "execution_count": 44,
   "metadata": {},
   "outputs": [
    {
     "data": {
      "text/html": [
       "<div>\n",
       "<style scoped>\n",
       "    .dataframe tbody tr th:only-of-type {\n",
       "        vertical-align: middle;\n",
       "    }\n",
       "\n",
       "    .dataframe tbody tr th {\n",
       "        vertical-align: top;\n",
       "    }\n",
       "\n",
       "    .dataframe thead th {\n",
       "        text-align: right;\n",
       "    }\n",
       "</style>\n",
       "<table border=\"1\" class=\"dataframe\">\n",
       "  <thead>\n",
       "    <tr style=\"text-align: right;\">\n",
       "      <th></th>\n",
       "      <th>primary_title</th>\n",
       "      <th>studio</th>\n",
       "      <th>domestic_gross_x</th>\n",
       "      <th>foreign_gross</th>\n",
       "      <th>year</th>\n",
       "      <th>tconst</th>\n",
       "      <th>averagerating</th>\n",
       "      <th>numvotes</th>\n",
       "      <th>original_title</th>\n",
       "      <th>start_year</th>\n",
       "      <th>runtime_minutes</th>\n",
       "      <th>genres</th>\n",
       "      <th>id</th>\n",
       "      <th>release_date</th>\n",
       "      <th>production_budget</th>\n",
       "      <th>domestic_gross_y</th>\n",
       "      <th>worldwide_gross</th>\n",
       "    </tr>\n",
       "  </thead>\n",
       "  <tbody>\n",
       "    <tr>\n",
       "      <th>0</th>\n",
       "      <td>Toy Story 3</td>\n",
       "      <td>BV</td>\n",
       "      <td>415000000.0</td>\n",
       "      <td>652000000</td>\n",
       "      <td>2010</td>\n",
       "      <td>tt0435761</td>\n",
       "      <td>8.3</td>\n",
       "      <td>682218</td>\n",
       "      <td>Toy Story 3</td>\n",
       "      <td>2010</td>\n",
       "      <td>103.0</td>\n",
       "      <td>Adventure,Animation,Comedy</td>\n",
       "      <td>47.0</td>\n",
       "      <td>Jun 18, 2010</td>\n",
       "      <td>$200,000,000</td>\n",
       "      <td>$415,004,880</td>\n",
       "      <td>$1,068,879,522</td>\n",
       "    </tr>\n",
       "    <tr>\n",
       "      <th>1</th>\n",
       "      <td>Inception</td>\n",
       "      <td>WB</td>\n",
       "      <td>292600000.0</td>\n",
       "      <td>535700000</td>\n",
       "      <td>2010</td>\n",
       "      <td>tt1375666</td>\n",
       "      <td>8.8</td>\n",
       "      <td>1841066</td>\n",
       "      <td>Inception</td>\n",
       "      <td>2010</td>\n",
       "      <td>148.0</td>\n",
       "      <td>Action,Adventure,Sci-Fi</td>\n",
       "      <td>38.0</td>\n",
       "      <td>Jul 16, 2010</td>\n",
       "      <td>$160,000,000</td>\n",
       "      <td>$292,576,195</td>\n",
       "      <td>$835,524,642</td>\n",
       "    </tr>\n",
       "    <tr>\n",
       "      <th>2</th>\n",
       "      <td>Shrek Forever After</td>\n",
       "      <td>P/DW</td>\n",
       "      <td>238700000.0</td>\n",
       "      <td>513900000</td>\n",
       "      <td>2010</td>\n",
       "      <td>tt0892791</td>\n",
       "      <td>6.3</td>\n",
       "      <td>167532</td>\n",
       "      <td>Shrek Forever After</td>\n",
       "      <td>2010</td>\n",
       "      <td>93.0</td>\n",
       "      <td>Adventure,Animation,Comedy</td>\n",
       "      <td>27.0</td>\n",
       "      <td>May 21, 2010</td>\n",
       "      <td>$165,000,000</td>\n",
       "      <td>$238,736,787</td>\n",
       "      <td>$756,244,673</td>\n",
       "    </tr>\n",
       "    <tr>\n",
       "      <th>3</th>\n",
       "      <td>The Twilight Saga: Eclipse</td>\n",
       "      <td>Sum.</td>\n",
       "      <td>300500000.0</td>\n",
       "      <td>398000000</td>\n",
       "      <td>2010</td>\n",
       "      <td>tt1325004</td>\n",
       "      <td>5.0</td>\n",
       "      <td>211733</td>\n",
       "      <td>The Twilight Saga: Eclipse</td>\n",
       "      <td>2010</td>\n",
       "      <td>124.0</td>\n",
       "      <td>Adventure,Drama,Fantasy</td>\n",
       "      <td>53.0</td>\n",
       "      <td>Jun 30, 2010</td>\n",
       "      <td>$68,000,000</td>\n",
       "      <td>$300,531,751</td>\n",
       "      <td>$706,102,828</td>\n",
       "    </tr>\n",
       "    <tr>\n",
       "      <th>4</th>\n",
       "      <td>Iron Man 2</td>\n",
       "      <td>Par.</td>\n",
       "      <td>312400000.0</td>\n",
       "      <td>311500000</td>\n",
       "      <td>2010</td>\n",
       "      <td>tt1228705</td>\n",
       "      <td>7.0</td>\n",
       "      <td>657690</td>\n",
       "      <td>Iron Man 2</td>\n",
       "      <td>2010</td>\n",
       "      <td>124.0</td>\n",
       "      <td>Action,Adventure,Sci-Fi</td>\n",
       "      <td>15.0</td>\n",
       "      <td>May 7, 2010</td>\n",
       "      <td>$170,000,000</td>\n",
       "      <td>$312,433,331</td>\n",
       "      <td>$621,156,389</td>\n",
       "    </tr>\n",
       "  </tbody>\n",
       "</table>\n",
       "</div>"
      ],
      "text/plain": [
       "                primary_title studio  domestic_gross_x foreign_gross  year  \\\n",
       "0                 Toy Story 3     BV       415000000.0     652000000  2010   \n",
       "1                   Inception     WB       292600000.0     535700000  2010   \n",
       "2         Shrek Forever After   P/DW       238700000.0     513900000  2010   \n",
       "3  The Twilight Saga: Eclipse   Sum.       300500000.0     398000000  2010   \n",
       "4                  Iron Man 2   Par.       312400000.0     311500000  2010   \n",
       "\n",
       "      tconst  averagerating  numvotes              original_title  start_year  \\\n",
       "0  tt0435761            8.3    682218                 Toy Story 3        2010   \n",
       "1  tt1375666            8.8   1841066                   Inception        2010   \n",
       "2  tt0892791            6.3    167532         Shrek Forever After        2010   \n",
       "3  tt1325004            5.0    211733  The Twilight Saga: Eclipse        2010   \n",
       "4  tt1228705            7.0    657690                  Iron Man 2        2010   \n",
       "\n",
       "   runtime_minutes                      genres    id  release_date  \\\n",
       "0            103.0  Adventure,Animation,Comedy  47.0  Jun 18, 2010   \n",
       "1            148.0     Action,Adventure,Sci-Fi  38.0  Jul 16, 2010   \n",
       "2             93.0  Adventure,Animation,Comedy  27.0  May 21, 2010   \n",
       "3            124.0     Adventure,Drama,Fantasy  53.0  Jun 30, 2010   \n",
       "4            124.0     Action,Adventure,Sci-Fi  15.0   May 7, 2010   \n",
       "\n",
       "  production_budget domestic_gross_y worldwide_gross  \n",
       "0      $200,000,000     $415,004,880  $1,068,879,522  \n",
       "1      $160,000,000     $292,576,195    $835,524,642  \n",
       "2      $165,000,000     $238,736,787    $756,244,673  \n",
       "3       $68,000,000     $300,531,751    $706,102,828  \n",
       "4      $170,000,000     $312,433,331    $621,156,389  "
      ]
     },
     "execution_count": 44,
     "metadata": {},
     "output_type": "execute_result"
    }
   ],
   "source": [
    "#Renaming merging column\n",
    "df4.rename({'movie':'primary_title'}, axis=1, inplace=True)\n",
    "df4.columns #Index(['id', 'release_date', 'primary_title', 'production_budget','domestic_gross', 'worldwide_gross'],dtype='object')\n",
    "\n",
    "#performing inner merge\n",
    "df_final = pd.merge(df_123, df4, on='primary_title', how='left')\n",
    "df_final.head()"
   ]
  },
  {
   "cell_type": "markdown",
   "metadata": {},
   "source": [
    "## Dataset Preparation (Cleaning)\n",
    "***"
   ]
  },
  {
   "cell_type": "code",
   "execution_count": 45,
   "metadata": {},
   "outputs": [
    {
     "data": {
      "text/plain": [
       "Index(['primary_title', 'studio', 'domestic_gross_x', 'foreign_gross', 'year',\n",
       "       'averagerating', 'numvotes', 'runtime_minutes', 'genres',\n",
       "       'production_budget'],\n",
       "      dtype='object')"
      ]
     },
     "execution_count": 45,
     "metadata": {},
     "output_type": "execute_result"
    }
   ],
   "source": [
    "#Dropping Irrelevant columns\n",
    "df_final.drop(columns=['tconst', 'original_title', 'id', 'domestic_gross_y', 'worldwide_gross', 'release_date', 'start_year'], inplace=True)\n",
    "\n",
    "#checking changes\n",
    "df_final.columns #Index(['primary_title', 'studio', 'domestic_gross_x', 'foreign_gross', 'year','averagerating', 'numvotes', 'runtime_minutes', 'genres','production_budget'],dtype='object')"
   ]
  },
  {
   "cell_type": "code",
   "execution_count": 46,
   "metadata": {},
   "outputs": [
    {
     "data": {
      "text/plain": [
       "primary_title         object\n",
       "studio                object\n",
       "domestic_gross_x     float64\n",
       "foreign_gross         object\n",
       "year                   int64\n",
       "averagerating        float64\n",
       "numvotes               int64\n",
       "runtime_minutes      float64\n",
       "genres                object\n",
       "production_budget     object\n",
       "dtype: object"
      ]
     },
     "execution_count": 46,
     "metadata": {},
     "output_type": "execute_result"
    }
   ],
   "source": [
    "#checking dtypes\n",
    "df_final.dtypes #domestic gross & production budget are in object dtypes, other dypes are in alignment\n"
   ]
  },
  {
   "cell_type": "code",
   "execution_count": 47,
   "metadata": {},
   "outputs": [
    {
     "data": {
      "text/plain": [
       "primary_title         object\n",
       "studio                object\n",
       "domestic_gross_x     float64\n",
       "foreign_gross        float64\n",
       "year                   int64\n",
       "averagerating        float64\n",
       "numvotes               int64\n",
       "runtime_minutes      float64\n",
       "genres                object\n",
       "production_budget    float64\n",
       "dtype: object"
      ]
     },
     "execution_count": 47,
     "metadata": {},
     "output_type": "execute_result"
    }
   ],
   "source": [
    "#changing data dtypes to be in alignment\n",
    "#changing the currency columns to numeric data\n",
    "def clean_currency_column(df, column_name):\n",
    "    df_final[column_name] = df_final[column_name].str.replace('$', '').str.replace(',', '').astype(float)\n",
    "    return df\n",
    "\n",
    "clean_currency_column(df_final, 'production_budget')\n",
    "clean_currency_column(df_final, 'foreign_gross')\n",
    "\n",
    "#dtypes sanity check\n",
    "df_final.dtypes"
   ]
  },
  {
   "cell_type": "markdown",
   "metadata": {},
   "source": [
    "#### Handling Missing Values and Duplicates"
   ]
  },
  {
   "cell_type": "markdown",
   "metadata": {},
   "source": [
    "*Duplicates*"
   ]
  },
  {
   "cell_type": "code",
   "execution_count": 48,
   "metadata": {},
   "outputs": [],
   "source": [
    "#checking for duplicates\n",
    "df_final.duplicated().sum() #2 duplicated entries\n",
    "\n",
    "# #inspecting duplicates(preview)\n",
    "df_final.loc[df_final.duplicated()]\n",
    "\n",
    "#dropping duplicated records\n",
    "df_final.drop_duplicates(inplace=True)"
   ]
  },
  {
   "cell_type": "code",
   "execution_count": 49,
   "metadata": {},
   "outputs": [
    {
     "data": {
      "text/plain": [
       "(2598, 10)"
      ]
     },
     "execution_count": 49,
     "metadata": {},
     "output_type": "execute_result"
    }
   ],
   "source": [
    "#checking for duplicates in 'primary_title' column\n",
    "df_final['primary_title'].duplicated().sum() # 447 duplicated\n",
    "\n",
    "#inspecting the duplicated records(preview)\n",
    "df_final.loc[df_final['primary_title'].duplicated()]\n",
    "\n",
    "#dropping duplicated movies\n",
    "df_final.drop_duplicates(subset='primary_title', inplace=True)\n",
    "\n",
    "#sanity check\n",
    "df_final.shape #(2598, 10)\n"
   ]
  },
  {
   "cell_type": "markdown",
   "metadata": {},
   "source": [
    "*Missing Values*"
   ]
  },
  {
   "cell_type": "code",
   "execution_count": 50,
   "metadata": {},
   "outputs": [
    {
     "data": {
      "text/plain": [
       "primary_title           0\n",
       "studio                  3\n",
       "domestic_gross_x       17\n",
       "foreign_gross        1040\n",
       "year                    0\n",
       "averagerating           0\n",
       "numvotes                0\n",
       "runtime_minutes        17\n",
       "genres                  3\n",
       "production_budget    1441\n",
       "dtype: int64"
      ]
     },
     "execution_count": 50,
     "metadata": {},
     "output_type": "execute_result"
    }
   ],
   "source": [
    "#checking for null values\n",
    "df_final.isna().sum()"
   ]
  },
  {
   "cell_type": "markdown",
   "metadata": {},
   "source": [
    "#### *Visualizing Distribution of Values in Columns with Null Values*"
   ]
  },
  {
   "cell_type": "code",
   "execution_count": 51,
   "metadata": {},
   "outputs": [
    {
     "name": "stderr",
     "output_type": "stream",
     "text": [
      "c:\\Users\\G\\anaconda3\\envs\\learn-env\\lib\\site-packages\\numpy\\lib\\histograms.py:839: RuntimeWarning: invalid value encountered in greater_equal\n",
      "  keep = (tmp_a >= first_edge)\n",
      "c:\\Users\\G\\anaconda3\\envs\\learn-env\\lib\\site-packages\\numpy\\lib\\histograms.py:840: RuntimeWarning: invalid value encountered in less_equal\n",
      "  keep &= (tmp_a <= last_edge)\n"
     ]
    },
    {
     "data": {
      "image/png": "[encoded data removed]",
      "text/plain": [
       "<Figure size 432x288 with 1 Axes>"
      ]
     },
     "metadata": {
      "needs_background": "light"
     },
     "output_type": "display_data"
    }
   ],
   "source": [
    "# foreign gross value-ditribution\n",
    "#set up hist plot\n",
    "plt.hist(df_final['foreign_gross'], bins=10)\n",
    "\n",
    "# Adding extra features   \n",
    "plt.xlabel(\"Foreign Gross\")\n",
    "plt.ylabel(\"Distribution\")\n",
    "plt.title('Distribution of Values in Foreign Gross')\n",
    "\n",
    "#show plot\n",
    "plt.show()"
   ]
  },
  {
   "cell_type": "code",
   "execution_count": 52,
   "metadata": {},
   "outputs": [
    {
     "data": {
      "image/png": "[encoded data removed]",
      "text/plain": [
       "<Figure size 432x288 with 1 Axes>"
      ]
     },
     "metadata": {
      "needs_background": "light"
     },
     "output_type": "display_data"
    }
   ],
   "source": [
    "#Production Budget value-ditribution\n",
    "#set up hist plot\n",
    "plt.hist(df_final['production_budget'], bins=10)\n",
    "\n",
    "# Adding extra features   \n",
    "plt.xlabel(\"Production Budget\")\n",
    "plt.ylabel(\"Distribution\")\n",
    "plt.title('Distribution of Values in Production Budget')\n",
    "\n",
    "#show plot\n",
    "plt.show()"
   ]
  },
  {
   "cell_type": "markdown",
   "metadata": {},
   "source": [
    "The distribution of values in both `Production Budget` and `Domestic Gross` appear to be skewed and therefore modal values or ffill/bfill techniques look fitting instead of mean values.\n",
    "\n",
    "To fill the missing values, forward fill `(ffill)` in applied on the dataset"
   ]
  },
  {
   "cell_type": "code",
   "execution_count": 53,
   "metadata": {},
   "outputs": [
    {
     "data": {
      "text/plain": [
       "primary_title          0\n",
       "studio                 3\n",
       "domestic_gross_x       0\n",
       "foreign_gross        564\n",
       "year                   0\n",
       "averagerating          0\n",
       "numvotes               0\n",
       "runtime_minutes        0\n",
       "genres                 3\n",
       "production_budget    654\n",
       "dtype: int64"
      ]
     },
     "execution_count": 53,
     "metadata": {},
     "output_type": "execute_result"
    }
   ],
   "source": [
    "#applying ffill() to specific columns using a loop\n",
    "cols = ['production_budget', 'foreign_gross', 'runtime_minutes', 'domestic_gross_x' ]\n",
    "\n",
    "for col in ['production_budget', 'foreign_gross', 'runtime_minutes', 'domestic_gross_x' ]:\n",
    "    df_final[col] = df_final[col].ffill(limit=5)\n",
    "\n",
    "#sanity check for null values\n",
    "df_final.isna().sum()\n"
   ]
  },
  {
   "cell_type": "code",
   "execution_count": 54,
   "metadata": {},
   "outputs": [
    {
     "data": {
      "text/plain": [
       "primary_title          0\n",
       "studio                 3\n",
       "domestic_gross_x       0\n",
       "foreign_gross        451\n",
       "year                   0\n",
       "averagerating          0\n",
       "numvotes               0\n",
       "runtime_minutes        0\n",
       "genres                 3\n",
       "production_budget    451\n",
       "dtype: int64"
      ]
     },
     "execution_count": 54,
     "metadata": {},
     "output_type": "execute_result"
    }
   ],
   "source": [
    "#applying bfill() to specific columns using a loop\n",
    "cols = ['production_budget', 'foreign_gross', 'runtime_minutes', 'domestic_gross_x' ]\n",
    "\n",
    "for col in ['production_budget', 'foreign_gross', 'runtime_minutes', 'domestic_gross_x' ]:\n",
    "    df_final[col] = df_final[col].bfill(limit=5)\n",
    "\n",
    "#sanity check\n",
    "df_final.isna().sum()"
   ]
  },
  {
   "cell_type": "code",
   "execution_count": 55,
   "metadata": {},
   "outputs": [
    {
     "data": {
      "text/html": [
       "<div>\n",
       "<style scoped>\n",
       "    .dataframe tbody tr th:only-of-type {\n",
       "        vertical-align: middle;\n",
       "    }\n",
       "\n",
       "    .dataframe tbody tr th {\n",
       "        vertical-align: top;\n",
       "    }\n",
       "\n",
       "    .dataframe thead th {\n",
       "        text-align: right;\n",
       "    }\n",
       "</style>\n",
       "<table border=\"1\" class=\"dataframe\">\n",
       "  <thead>\n",
       "    <tr style=\"text-align: right;\">\n",
       "      <th></th>\n",
       "      <th>domestic_gross_x</th>\n",
       "      <th>foreign_gross</th>\n",
       "      <th>year</th>\n",
       "      <th>averagerating</th>\n",
       "      <th>numvotes</th>\n",
       "      <th>runtime_minutes</th>\n",
       "      <th>production_budget</th>\n",
       "    </tr>\n",
       "  </thead>\n",
       "  <tbody>\n",
       "    <tr>\n",
       "      <th>count</th>\n",
       "      <td>2.598000e+03</td>\n",
       "      <td>2.147000e+03</td>\n",
       "      <td>2598.000000</td>\n",
       "      <td>2598.000000</td>\n",
       "      <td>2.598000e+03</td>\n",
       "      <td>2598.000000</td>\n",
       "      <td>2.147000e+03</td>\n",
       "    </tr>\n",
       "    <tr>\n",
       "      <th>mean</th>\n",
       "      <td>3.081885e+07</td>\n",
       "      <td>6.790546e+07</td>\n",
       "      <td>2014.053118</td>\n",
       "      <td>6.485296</td>\n",
       "      <td>6.805675e+04</td>\n",
       "      <td>108.253272</td>\n",
       "      <td>3.591348e+07</td>\n",
       "    </tr>\n",
       "    <tr>\n",
       "      <th>std</th>\n",
       "      <td>6.763990e+07</td>\n",
       "      <td>1.471002e+08</td>\n",
       "      <td>2.422195</td>\n",
       "      <td>0.965971</td>\n",
       "      <td>1.318556e+05</td>\n",
       "      <td>19.422242</td>\n",
       "      <td>5.196638e+07</td>\n",
       "    </tr>\n",
       "    <tr>\n",
       "      <th>min</th>\n",
       "      <td>1.000000e+02</td>\n",
       "      <td>6.000000e+02</td>\n",
       "      <td>2010.000000</td>\n",
       "      <td>1.600000</td>\n",
       "      <td>5.000000e+00</td>\n",
       "      <td>40.000000</td>\n",
       "      <td>5.000000e+04</td>\n",
       "    </tr>\n",
       "    <tr>\n",
       "      <th>25%</th>\n",
       "      <td>1.382500e+05</td>\n",
       "      <td>1.000000e+06</td>\n",
       "      <td>2012.000000</td>\n",
       "      <td>6.000000</td>\n",
       "      <td>3.619750e+03</td>\n",
       "      <td>95.000000</td>\n",
       "      <td>5.000000e+06</td>\n",
       "    </tr>\n",
       "    <tr>\n",
       "      <th>50%</th>\n",
       "      <td>1.900000e+06</td>\n",
       "      <td>8.900000e+06</td>\n",
       "      <td>2014.000000</td>\n",
       "      <td>6.600000</td>\n",
       "      <td>1.657100e+04</td>\n",
       "      <td>105.000000</td>\n",
       "      <td>1.500000e+07</td>\n",
       "    </tr>\n",
       "    <tr>\n",
       "      <th>75%</th>\n",
       "      <td>3.200000e+07</td>\n",
       "      <td>5.460000e+07</td>\n",
       "      <td>2016.000000</td>\n",
       "      <td>7.200000</td>\n",
       "      <td>7.258700e+04</td>\n",
       "      <td>119.000000</td>\n",
       "      <td>4.000000e+07</td>\n",
       "    </tr>\n",
       "    <tr>\n",
       "      <th>max</th>\n",
       "      <td>7.001000e+08</td>\n",
       "      <td>9.464000e+08</td>\n",
       "      <td>2018.000000</td>\n",
       "      <td>8.900000</td>\n",
       "      <td>1.841066e+06</td>\n",
       "      <td>272.000000</td>\n",
       "      <td>4.106000e+08</td>\n",
       "    </tr>\n",
       "  </tbody>\n",
       "</table>\n",
       "</div>"
      ],
      "text/plain": [
       "       domestic_gross_x  foreign_gross         year  averagerating  \\\n",
       "count      2.598000e+03   2.147000e+03  2598.000000    2598.000000   \n",
       "mean       3.081885e+07   6.790546e+07  2014.053118       6.485296   \n",
       "std        6.763990e+07   1.471002e+08     2.422195       0.965971   \n",
       "min        1.000000e+02   6.000000e+02  2010.000000       1.600000   \n",
       "25%        1.382500e+05   1.000000e+06  2012.000000       6.000000   \n",
       "50%        1.900000e+06   8.900000e+06  2014.000000       6.600000   \n",
       "75%        3.200000e+07   5.460000e+07  2016.000000       7.200000   \n",
       "max        7.001000e+08   9.464000e+08  2018.000000       8.900000   \n",
       "\n",
       "           numvotes  runtime_minutes  production_budget  \n",
       "count  2.598000e+03      2598.000000       2.147000e+03  \n",
       "mean   6.805675e+04       108.253272       3.591348e+07  \n",
       "std    1.318556e+05        19.422242       5.196638e+07  \n",
       "min    5.000000e+00        40.000000       5.000000e+04  \n",
       "25%    3.619750e+03        95.000000       5.000000e+06  \n",
       "50%    1.657100e+04       105.000000       1.500000e+07  \n",
       "75%    7.258700e+04       119.000000       4.000000e+07  \n",
       "max    1.841066e+06       272.000000       4.106000e+08  "
      ]
     },
     "execution_count": 55,
     "metadata": {},
     "output_type": "execute_result"
    }
   ],
   "source": [
    "df_final.describe()"
   ]
  },
  {
   "cell_type": "code",
   "execution_count": 56,
   "metadata": {},
   "outputs": [
    {
     "name": "stdout",
     "output_type": "stream",
     "text": [
      "<class 'pandas.core.frame.DataFrame'>\n",
      "Int64Index: 2598 entries, 0 to 3046\n",
      "Data columns (total 10 columns):\n",
      " #   Column             Non-Null Count  Dtype  \n",
      "---  ------             --------------  -----  \n",
      " 0   primary_title      2598 non-null   object \n",
      " 1   studio             2595 non-null   object \n",
      " 2   domestic_gross_x   2598 non-null   float64\n",
      " 3   foreign_gross      2147 non-null   float64\n",
      " 4   year               2598 non-null   int64  \n",
      " 5   averagerating      2598 non-null   float64\n",
      " 6   numvotes           2598 non-null   int64  \n",
      " 7   runtime_minutes    2598 non-null   float64\n",
      " 8   genres             2595 non-null   object \n",
      " 9   production_budget  2147 non-null   float64\n",
      "dtypes: float64(5), int64(2), object(3)\n",
      "memory usage: 223.3+ KB\n"
     ]
    }
   ],
   "source": [
    "df_final.info()"
   ]
  },
  {
   "cell_type": "code",
   "execution_count": 57,
   "metadata": {},
   "outputs": [
    {
     "data": {
      "text/plain": [
       "primary_title        0\n",
       "studio               0\n",
       "domestic_gross_x     0\n",
       "foreign_gross        0\n",
       "year                 0\n",
       "averagerating        0\n",
       "numvotes             0\n",
       "runtime_minutes      0\n",
       "genres               0\n",
       "production_budget    0\n",
       "dtype: int64"
      ]
     },
     "execution_count": 57,
     "metadata": {},
     "output_type": "execute_result"
    }
   ],
   "source": [
    "#filling null values with their respective modal value using a loop\n",
    "cols1 = ['production_budget', 'foreign_gross' ]\n",
    "for col in ['production_budget', 'foreign_gross' ]:\n",
    "    df_final[col] = df_final[col].fillna(df_final[col].mode()[0])\n",
    "\n",
    "#filling 'missing' for null  value in columns 'studio' and 'genres'\n",
    "cols2 = ['studio', 'genres' ]\n",
    "for col in ['studio', 'genres' ]:\n",
    "    df_final[col] = df_final[col].fillna('Missing')\n",
    "\n",
    "#sanity check\n",
    "df_final.isna().sum()\n"
   ]
  },
  {
   "cell_type": "markdown",
   "metadata": {},
   "source": [
    "## Data Modeling (Relational Analysis)"
   ]
  },
  {
   "cell_type": "code",
   "execution_count": 72,
   "metadata": {},
   "outputs": [
    {
     "data": {
      "text/html": [
       "<div>\n",
       "<style scoped>\n",
       "    .dataframe tbody tr th:only-of-type {\n",
       "        vertical-align: middle;\n",
       "    }\n",
       "\n",
       "    .dataframe tbody tr th {\n",
       "        vertical-align: top;\n",
       "    }\n",
       "\n",
       "    .dataframe thead th {\n",
       "        text-align: right;\n",
       "    }\n",
       "</style>\n",
       "<table border=\"1\" class=\"dataframe\">\n",
       "  <thead>\n",
       "    <tr style=\"text-align: right;\">\n",
       "      <th></th>\n",
       "      <th>domestic_gross_x</th>\n",
       "      <th>foreign_gross</th>\n",
       "      <th>year</th>\n",
       "      <th>averagerating</th>\n",
       "      <th>numvotes</th>\n",
       "      <th>runtime_minutes</th>\n",
       "      <th>production_budget</th>\n",
       "    </tr>\n",
       "  </thead>\n",
       "  <tbody>\n",
       "    <tr>\n",
       "      <th>count</th>\n",
       "      <td>2.598000e+03</td>\n",
       "      <td>2.598000e+03</td>\n",
       "      <td>2598.000000</td>\n",
       "      <td>2598.000000</td>\n",
       "      <td>2.598000e+03</td>\n",
       "      <td>2598.000000</td>\n",
       "      <td>2.598000e+03</td>\n",
       "    </tr>\n",
       "    <tr>\n",
       "      <th>mean</th>\n",
       "      <td>3.081885e+07</td>\n",
       "      <td>5.630836e+07</td>\n",
       "      <td>2014.053118</td>\n",
       "      <td>6.485296</td>\n",
       "      <td>6.805675e+04</td>\n",
       "      <td>108.253272</td>\n",
       "      <td>3.141503e+07</td>\n",
       "    </tr>\n",
       "    <tr>\n",
       "      <th>std</th>\n",
       "      <td>6.763990e+07</td>\n",
       "      <td>1.360926e+08</td>\n",
       "      <td>2.422195</td>\n",
       "      <td>0.965971</td>\n",
       "      <td>1.318556e+05</td>\n",
       "      <td>19.422242</td>\n",
       "      <td>4.824833e+07</td>\n",
       "    </tr>\n",
       "    <tr>\n",
       "      <th>min</th>\n",
       "      <td>1.000000e+02</td>\n",
       "      <td>6.000000e+02</td>\n",
       "      <td>2010.000000</td>\n",
       "      <td>1.600000</td>\n",
       "      <td>5.000000e+00</td>\n",
       "      <td>40.000000</td>\n",
       "      <td>5.000000e+04</td>\n",
       "    </tr>\n",
       "    <tr>\n",
       "      <th>25%</th>\n",
       "      <td>1.382500e+05</td>\n",
       "      <td>1.100000e+06</td>\n",
       "      <td>2012.000000</td>\n",
       "      <td>6.000000</td>\n",
       "      <td>3.619750e+03</td>\n",
       "      <td>95.000000</td>\n",
       "      <td>8.000000e+06</td>\n",
       "    </tr>\n",
       "    <tr>\n",
       "      <th>50%</th>\n",
       "      <td>1.900000e+06</td>\n",
       "      <td>4.099999e+06</td>\n",
       "      <td>2014.000000</td>\n",
       "      <td>6.600000</td>\n",
       "      <td>1.657100e+04</td>\n",
       "      <td>105.000000</td>\n",
       "      <td>1.000000e+07</td>\n",
       "    </tr>\n",
       "    <tr>\n",
       "      <th>75%</th>\n",
       "      <td>3.200000e+07</td>\n",
       "      <td>3.817500e+07</td>\n",
       "      <td>2016.000000</td>\n",
       "      <td>7.200000</td>\n",
       "      <td>7.258700e+04</td>\n",
       "      <td>119.000000</td>\n",
       "      <td>3.237500e+07</td>\n",
       "    </tr>\n",
       "    <tr>\n",
       "      <th>max</th>\n",
       "      <td>7.001000e+08</td>\n",
       "      <td>9.464000e+08</td>\n",
       "      <td>2018.000000</td>\n",
       "      <td>8.900000</td>\n",
       "      <td>1.841066e+06</td>\n",
       "      <td>272.000000</td>\n",
       "      <td>4.106000e+08</td>\n",
       "    </tr>\n",
       "  </tbody>\n",
       "</table>\n",
       "</div>"
      ],
      "text/plain": [
       "       domestic_gross_x  foreign_gross         year  averagerating  \\\n",
       "count      2.598000e+03   2.598000e+03  2598.000000    2598.000000   \n",
       "mean       3.081885e+07   5.630836e+07  2014.053118       6.485296   \n",
       "std        6.763990e+07   1.360926e+08     2.422195       0.965971   \n",
       "min        1.000000e+02   6.000000e+02  2010.000000       1.600000   \n",
       "25%        1.382500e+05   1.100000e+06  2012.000000       6.000000   \n",
       "50%        1.900000e+06   4.099999e+06  2014.000000       6.600000   \n",
       "75%        3.200000e+07   3.817500e+07  2016.000000       7.200000   \n",
       "max        7.001000e+08   9.464000e+08  2018.000000       8.900000   \n",
       "\n",
       "           numvotes  runtime_minutes  production_budget  \n",
       "count  2.598000e+03      2598.000000       2.598000e+03  \n",
       "mean   6.805675e+04       108.253272       3.141503e+07  \n",
       "std    1.318556e+05        19.422242       4.824833e+07  \n",
       "min    5.000000e+00        40.000000       5.000000e+04  \n",
       "25%    3.619750e+03        95.000000       8.000000e+06  \n",
       "50%    1.657100e+04       105.000000       1.000000e+07  \n",
       "75%    7.258700e+04       119.000000       3.237500e+07  \n",
       "max    1.841066e+06       272.000000       4.106000e+08  "
      ]
     },
     "execution_count": 72,
     "metadata": {},
     "output_type": "execute_result"
    }
   ],
   "source": [
    "df_final.describe()"
   ]
  },
  {
   "cell_type": "code",
   "execution_count": 58,
   "metadata": {},
   "outputs": [
    {
     "data": {
      "image/png": "[encoded data removed]",
      "text/plain": [
       "<Figure size 432x288 with 2 Axes>"
      ]
     },
     "metadata": {
      "needs_background": "light"
     },
     "output_type": "display_data"
    }
   ],
   "source": [
    "# #finding correlations in the dataset\n",
    "# plotting correlation heatmap as ax\n",
    "ax = sns.heatmap(df_final.corr(), cmap='copper_r', annot=True)\n",
    "  \n",
    "# displaying heatmap\n",
    "ax.set_title(\"Relational analysis\", fontsize=16)\n",
    "plt.show()"
   ]
  },
  {
   "cell_type": "markdown",
   "metadata": {},
   "source": [
    "**Observations and Interpretations:**\n",
    "\\\n",
    "\\\n",
    "Overall, the variables in the dataset are positively correlated(except for  instances of `year` that has **-ve annotations**) with some correlations being fairly stronger than others. This can be observed through the annotations in the plots. Positive values show positive correlation whereas the magnitude of the annotations indicate strength of correlation with `1.0` being the highest value.\n",
    "\n",
    "In the case of `production_budget`, `foreign_gross` and `domestic_gross_x` for example, the correlation is moderately strong. "
   ]
  },
  {
   "cell_type": "markdown",
   "metadata": {},
   "source": [
    "#### **Domestic Gross** vs **Foreign Gross** Relational Analysis\n",
    "\n",
    "*Scatter Plot*"
   ]
  },
  {
   "cell_type": "code",
   "execution_count": 59,
   "metadata": {},
   "outputs": [
    {
     "data": {
      "image/png": "[encoded data removed]",
      "text/plain": [
       "<Figure size 576x360 with 1 Axes>"
      ]
     },
     "metadata": {
      "needs_background": "light"
     },
     "output_type": "display_data"
    }
   ],
   "source": [
    "#setting up plots\n",
    "fig,ax = plt.subplots(figsize=(8,5))\n",
    "ax = sns.scatterplot(x='domestic_gross_x',\n",
    "    y='foreign_gross',\n",
    "    hue='production_budget',\n",
    "    data=df_final)\n",
    "ax.set_title('Domestic Gross  vs Foreign Gross', fontsize=16)\n",
    "plt.show()"
   ]
  },
  {
   "cell_type": "markdown",
   "metadata": {},
   "source": [
    "**Observations and Interpretations:**\n",
    "\n",
    "\n",
    "The points in the plot appear to be grouped in a manner that shows an upward trend from the origin (0,0). This is an indication that `domestic_gross_x` and `foreign_gross` are positively correlated.\n",
    "\n",
    "Whenever `domestic_gross_x` increased, there appear to be a corresponding increment in `foreign_gross` as well. It is also worth noting the increasing number of dark spots representing `production_budget` as the spots spread away from the origin."
   ]
  },
  {
   "cell_type": "markdown",
   "metadata": {},
   "source": [
    "#### **Production Budget** vs **Foreign Gross** Relational Analysis\n",
    "\n",
    "\n",
    "*Scatter plot*"
   ]
  },
  {
   "cell_type": "code",
   "execution_count": 60,
   "metadata": {},
   "outputs": [
    {
     "data": {
      "image/png": "[encoded data removed]",
      "text/plain": [
       "<Figure size 648x360 with 1 Axes>"
      ]
     },
     "metadata": {
      "needs_background": "light"
     },
     "output_type": "display_data"
    }
   ],
   "source": [
    "fig,ax = plt.subplots(figsize=(9,5))\n",
    "ax = sns.scatterplot(x='production_budget',\n",
    "    y='domestic_gross_x',\n",
    "    hue='foreign_gross',\n",
    "    data=df_final)\n",
    "ax.set_title('Production Budget  vs Domestic Gross', fontsize=16)\n",
    "plt.show()"
   ]
  },
  {
   "cell_type": "markdown",
   "metadata": {},
   "source": [
    "*Observations and Interpretations:*\n",
    "\n",
    "From the visualization, `production_budget` and `domestic_gross_x` portray an overall positive correlation that appears to weak. \n",
    "\n",
    "Increased production budget has an corresponding general increment in Domestic gross as well. Analysis for `foreign_gross` with `production_budget` was intentionally skipped since data on `foreign_gross` had a lot of missing values."
   ]
  },
  {
   "cell_type": "markdown",
   "metadata": {},
   "source": [
    "### The Best Performing Genres in the Country"
   ]
  },
  {
   "cell_type": "markdown",
   "metadata": {},
   "source": [
    "##### In order to get the film genres with the highest returns from sales, I have grouped the dataset by `genres` to make `genres` data as my `'focus data'` and ordered the records in `descending` order using `domestic_gross_x` column to do the ordering; then performed `.head()` method to get the top genres.\n",
    "##### A `Bar graph` plot is used to show the `top genres`.\n",
    "##### The top genres are restricted to a sample of 10 so as to include genres that might have just made it to the list. This was intended to ensure variety in the analysis.\n"
   ]
  },
  {
   "cell_type": "code",
   "execution_count": 61,
   "metadata": {},
   "outputs": [],
   "source": [
    "#grouping the dataset by genres\n",
    "genres_df = df_final.groupby('genres', as_index=False).mean()\n",
    "genres_df.reset_index()\n",
    "#sorting the records in descending order using Domestic gross\n",
    "dg_genres_df = genres_df.sort_values('domestic_gross_x', ascending=False)\n"
   ]
  },
  {
   "cell_type": "markdown",
   "metadata": {},
   "source": [
    "#### Top 10 Genres by *Domestic Revenue*"
   ]
  },
  {
   "cell_type": "code",
   "execution_count": 75,
   "metadata": {},
   "outputs": [
    {
     "data": {
      "image/png": "[encoded data removed]",
      "text/plain": [
       "<Figure size 720x360 with 1 Axes>"
      ]
     },
     "metadata": {
      "needs_background": "light"
     },
     "output_type": "display_data"
    }
   ],
   "source": [
    "#setting up plot \n",
    "fig, ax = plt.subplots(figsize=(10,5))\n",
    "ax = sns.barplot(x = 'domestic_gross_x',\n",
    "            y = 'genres',\n",
    "            data = dg_genres_df.head(10)\n",
    "            )\n",
    "\n",
    "plt.title('Top 10 Genres by Domestic Revenue', fontsize=16)\n",
    "plt.xlabel('Domestic Returns', fontsize=14)\n",
    "plt.ylabel('Film Genres', fontsize=14)\n",
    "\n",
    "#displaying the gridlines and setting width visibility to 0.25\n",
    "ax.grid(True, linewidth=0.25)\n",
    "\n",
    "# Show the plot\n",
    "plt.show()"
   ]
  },
  {
   "cell_type": "markdown",
   "metadata": {},
   "source": [
    "*Observations and Intepretations:*\n",
    "\n",
    " From the visualization, (Adventure, Drama, Sport) genres show the highest sales observed domestically by a significant margin, followed by (Action, Adventure, Sci-Fi) whereas\n",
    " \n",
    " (Adventure, Mystery, Sci-Fi) recorded the lowest sales domestically."
   ]
  },
  {
   "cell_type": "markdown",
   "metadata": {},
   "source": [
    "#### Top 10 Genres by Production Budget"
   ]
  },
  {
   "cell_type": "code",
   "execution_count": 76,
   "metadata": {},
   "outputs": [
    {
     "data": {
      "image/png": "[encoded data removed]",
      "text/plain": [
       "<Figure size 720x360 with 1 Axes>"
      ]
     },
     "metadata": {
      "needs_background": "light"
     },
     "output_type": "display_data"
    }
   ],
   "source": [
    "#sorting the records in descending order using Production Budget\n",
    "pb_genres_df = genres_df.sort_values('production_budget', ascending=False)\n",
    "\n",
    "#setting up plot \n",
    "fig, ax = plt.subplots(figsize=(10,5))\n",
    "ax = sns.barplot(x = 'production_budget',\n",
    "            y = 'genres',\n",
    "            data = pb_genres_df.head(10)\n",
    "            )\n",
    "\n",
    "plt.title('Top 10 Genres by production_budget', fontsize=16)\n",
    "plt.xlabel('Production Budget', fontsize=14)\n",
    "plt.ylabel('Film Genres', fontsize=14)\n",
    "\n",
    "#displaying the gridlines and setting width visibility to 0.25\n",
    "ax.grid(True, linewidth=0.25)\n",
    "\n",
    "# Show the plot\n",
    "plt.show()"
   ]
  },
  {
   "cell_type": "markdown",
   "metadata": {},
   "source": [
    "In regards to Film Production Budgets, Adventure, Fantasy recorded the highest Budgets whereas Adventure, Mystery, Sci-fi recorded the lowest production budget."
   ]
  },
  {
   "cell_type": "markdown",
   "metadata": {},
   "source": [
    "### Genres Distribution\n",
    "\n",
    "To better understand the most common types of film genres in the film industry, I split the collective genres into individual genres, checked for the value counts \n",
    "\n",
    "of each genre and did a bar plot to visualize the individual genres."
   ]
  },
  {
   "cell_type": "code",
   "execution_count": 64,
   "metadata": {},
   "outputs": [
    {
     "data": {
      "image/png": "[encoded data removed]",
      "text/plain": [
       "<Figure size 576x360 with 1 Axes>"
      ]
     },
     "metadata": {
      "needs_background": "light"
     },
     "output_type": "display_data"
    }
   ],
   "source": [
    "#separating genre data to have individual genres\n",
    "genres_df1 = df_final.copy()\n",
    "\n",
    "genres_df1['genres'] = genres_df1['genres'].str.split(',')\n",
    "\n",
    "#exploding the genres column to yield multiple rows for each film by genre\n",
    "genres_df1 = genres_df1.explode('genres')\n",
    "\n",
    "#checking the changes\n",
    "genres_df1['genres'].value_counts()\n",
    "\n",
    "#plotting the genre distributions in a bar graph plot\n",
    "genres_df1['genres'].value_counts().plot(kind='bar', xlabel='Genres', ylabel='Frequency', figsize=(8,5))\n",
    "\n",
    "#setting title                                        \n",
    "plt.title('Distribution of Film Genres', fontsize=16)\n",
    "\n",
    "plt.show()"
   ]
  },
  {
   "cell_type": "markdown",
   "metadata": {},
   "source": [
    "*Observations and Interpretations*\n",
    "\n",
    "A great majority of films made are seen to have the genre 'drama' by a big margin, followed by 'comedy' and 'action' films. 'Sport' and 'News' closes the list\n"
   ]
  },
  {
   "cell_type": "markdown",
   "metadata": {},
   "source": [
    "### Popular Genres by Ratings"
   ]
  },
  {
   "cell_type": "markdown",
   "metadata": {},
   "source": [
    "To get the popular genres, `df_genres` is sorted by the `averagerating`. Then .head() executed on the the sorted dataframe "
   ]
  },
  {
   "cell_type": "code",
   "execution_count": 65,
   "metadata": {},
   "outputs": [
    {
     "data": {
      "text/html": [
       "<div>\n",
       "<style scoped>\n",
       "    .dataframe tbody tr th:only-of-type {\n",
       "        vertical-align: middle;\n",
       "    }\n",
       "\n",
       "    .dataframe tbody tr th {\n",
       "        vertical-align: top;\n",
       "    }\n",
       "\n",
       "    .dataframe thead th {\n",
       "        text-align: right;\n",
       "    }\n",
       "</style>\n",
       "<table border=\"1\" class=\"dataframe\">\n",
       "  <thead>\n",
       "    <tr style=\"text-align: right;\">\n",
       "      <th></th>\n",
       "      <th>genres</th>\n",
       "      <th>averagerating</th>\n",
       "    </tr>\n",
       "  </thead>\n",
       "  <tbody>\n",
       "    <tr>\n",
       "      <th>74</th>\n",
       "      <td>Action,Sport</td>\n",
       "      <td>8.4</td>\n",
       "    </tr>\n",
       "    <tr>\n",
       "      <th>230</th>\n",
       "      <td>Documentary,History,War</td>\n",
       "      <td>8.4</td>\n",
       "    </tr>\n",
       "    <tr>\n",
       "      <th>234</th>\n",
       "      <td>Documentary,News</td>\n",
       "      <td>8.3</td>\n",
       "    </tr>\n",
       "    <tr>\n",
       "      <th>103</th>\n",
       "      <td>Adventure,Drama,Sci-Fi</td>\n",
       "      <td>8.3</td>\n",
       "    </tr>\n",
       "    <tr>\n",
       "      <th>129</th>\n",
       "      <td>Animation,Drama,Romance</td>\n",
       "      <td>8.2</td>\n",
       "    </tr>\n",
       "  </tbody>\n",
       "</table>\n",
       "</div>"
      ],
      "text/plain": [
       "                      genres  averagerating\n",
       "74              Action,Sport            8.4\n",
       "230  Documentary,History,War            8.4\n",
       "234         Documentary,News            8.3\n",
       "103   Adventure,Drama,Sci-Fi            8.3\n",
       "129  Animation,Drama,Romance            8.2"
      ]
     },
     "execution_count": 65,
     "metadata": {},
     "output_type": "execute_result"
    }
   ],
   "source": [
    "#sorting the dataframe by averagerating and assigning to variable \n",
    "genre_rating_df = genres_df.sort_values('averagerating', ascending=False)\n",
    "\n",
    "genre_rating_df[['genres', 'averagerating']].head()"
   ]
  },
  {
   "cell_type": "markdown",
   "metadata": {},
   "source": [
    "Top Genres by Ratings Visualized"
   ]
  },
  {
   "cell_type": "code",
   "execution_count": 66,
   "metadata": {},
   "outputs": [
    {
     "data": {
      "image/png": "[encoded data removed]",
      "text/plain": [
       "<Figure size 720x360 with 1 Axes>"
      ]
     },
     "metadata": {
      "needs_background": "light"
     },
     "output_type": "display_data"
    }
   ],
   "source": [
    "#setting up plot \n",
    "fig, ax = plt.subplots(figsize=(10,5))\n",
    "ax = sns.barplot(x = 'averagerating',\n",
    "            y = 'genres',\n",
    "            data = genre_rating_df.head(10),\n",
    "            hue= 'averagerating')\n",
    "\n",
    "plt.title('Top 10 popular Genres by Rating', fontsize=16)\n",
    "plt.xlabel('Average Ratings', fontsize=14)\n",
    "plt.ylabel('Film Genres', fontsize=14)\n",
    "\n",
    "#displaying the gridlines and setting width visibility to 0.25\n",
    "ax.grid(True, linewidth=0.25)\n",
    "\n",
    "# Show the plot\n",
    "plt.show()"
   ]
  },
  {
   "cell_type": "markdown",
   "metadata": {},
   "source": [
    "*Observations and interpretations*\n",
    " \n",
    "Action, sport and Documentary, History, War genres are rated to be the most popular in terms of rating. This ratings however seeks further clarity since the data might be from a smaller number of votes and therefore might easily create the element of bias in the analysis and therefore not give a true depiction of what is popular to the viewers.\n",
    "\n",
    "As a result, there's further analysis on the number of votes in the dataset"
   ]
  },
  {
   "cell_type": "markdown",
   "metadata": {},
   "source": [
    "*Distribution of Votes on Genres Data*"
   ]
  },
  {
   "cell_type": "code",
   "execution_count": 67,
   "metadata": {},
   "outputs": [
    {
     "data": {
      "image/png": "[encoded data removed]",
      "text/plain": [
       "<Figure size 432x288 with 1 Axes>"
      ]
     },
     "metadata": {
      "needs_background": "light"
     },
     "output_type": "display_data"
    }
   ],
   "source": [
    "#plotting the genre distributions in a bar graph plot\n",
    "x = genre_rating_df['genres'].head(10)\n",
    "y = genre_rating_df['numvotes'].head(10)\n",
    "\n",
    "plt.barh(x, y)\n",
    "plt.ylabel('Genres')\n",
    "plt.xlabel('Vote Count')\n",
    "\n",
    "plt.show()"
   ]
  },
  {
   "cell_type": "markdown",
   "metadata": {},
   "source": [
    "As observed from the plot above, there is a huge variation of number of counts with the respective genres. The `ratings` therefore might not be a proper presentation of how popular a film genre is since the rating, as seen from the visualization might be from a smaller group of viewers."
   ]
  },
  {
   "cell_type": "markdown",
   "metadata": {},
   "source": [
    "### Distribution of Runtime Minutes"
   ]
  },
  {
   "cell_type": "code",
   "execution_count": 68,
   "metadata": {},
   "outputs": [
    {
     "data": {
      "image/png": "[encoded data removed]",
      "text/plain": [
       "<Figure size 432x288 with 1 Axes>"
      ]
     },
     "metadata": {
      "needs_background": "light"
     },
     "output_type": "display_data"
    }
   ],
   "source": [
    "#plotting the genre distributions of runtimes in a density plot\n",
    "ax = df_final['runtime_minutes'].plot.density(color='orange')\n",
    "\n",
    "ax.set_title('Distribution of Runtime Minutes', fontsize=16)\n",
    "ax.set_xlabel('Runtime Minutes', fontsize=14)\n",
    "ax.set_ylabel('Density', fontsize=14)\n",
    "plt.show()\n"
   ]
  },
  {
   "cell_type": "markdown",
   "metadata": {},
   "source": [
    "Using a density plot, we can figure out films with durations of approximately 90 minutes were the most common for films because of it being high peak region.\n",
    "\n",
    "Majority of the films are roughly an hour and a half long"
   ]
  },
  {
   "cell_type": "markdown",
   "metadata": {},
   "source": [
    "### Best Performing Studios"
   ]
  },
  {
   "cell_type": "code",
   "execution_count": 69,
   "metadata": {},
   "outputs": [
    {
     "data": {
      "text/plain": [
       "IFC      128\n",
       "Uni.     127\n",
       "Fox      117\n",
       "WB       105\n",
       "Magn.    100\n",
       "SPC       94\n",
       "BV        86\n",
       "Sony      82\n",
       "Par.      80\n",
       "LGF       80\n",
       "Name: studio, dtype: int64"
      ]
     },
     "execution_count": 69,
     "metadata": {},
     "output_type": "execute_result"
    }
   ],
   "source": [
    "#unique studios\n",
    "df_final['studio'].value_counts().head(10)"
   ]
  },
  {
   "cell_type": "code",
   "execution_count": 74,
   "metadata": {},
   "outputs": [
    {
     "data": {
      "text/html": [
       "<div>\n",
       "<style scoped>\n",
       "    .dataframe tbody tr th:only-of-type {\n",
       "        vertical-align: middle;\n",
       "    }\n",
       "\n",
       "    .dataframe tbody tr th {\n",
       "        vertical-align: top;\n",
       "    }\n",
       "\n",
       "    .dataframe thead th {\n",
       "        text-align: right;\n",
       "    }\n",
       "</style>\n",
       "<table border=\"1\" class=\"dataframe\">\n",
       "  <thead>\n",
       "    <tr style=\"text-align: right;\">\n",
       "      <th></th>\n",
       "      <th>studio</th>\n",
       "      <th>domestic_gross_x</th>\n",
       "      <th>foreign_gross</th>\n",
       "      <th>year</th>\n",
       "      <th>averagerating</th>\n",
       "      <th>numvotes</th>\n",
       "      <th>runtime_minutes</th>\n",
       "      <th>production_budget</th>\n",
       "    </tr>\n",
       "  </thead>\n",
       "  <tbody>\n",
       "    <tr>\n",
       "      <th>32</th>\n",
       "      <td>BV</td>\n",
       "      <td>1.683256e+08</td>\n",
       "      <td>2.483378e+08</td>\n",
       "      <td>2013.953488</td>\n",
       "      <td>6.943023</td>\n",
       "      <td>213940.790698</td>\n",
       "      <td>112.383721</td>\n",
       "      <td>1.215267e+08</td>\n",
       "    </tr>\n",
       "    <tr>\n",
       "      <th>145</th>\n",
       "      <td>P/DW</td>\n",
       "      <td>1.682900e+08</td>\n",
       "      <td>3.393600e+08</td>\n",
       "      <td>2010.900000</td>\n",
       "      <td>6.760000</td>\n",
       "      <td>213462.000000</td>\n",
       "      <td>101.500000</td>\n",
       "      <td>1.334000e+08</td>\n",
       "    </tr>\n",
       "    <tr>\n",
       "      <th>208</th>\n",
       "      <td>WB (NL)</td>\n",
       "      <td>9.119512e+07</td>\n",
       "      <td>1.418512e+08</td>\n",
       "      <td>2014.268293</td>\n",
       "      <td>6.268293</td>\n",
       "      <td>144118.731707</td>\n",
       "      <td>109.219512</td>\n",
       "      <td>5.781951e+07</td>\n",
       "    </tr>\n",
       "    <tr>\n",
       "      <th>199</th>\n",
       "      <td>Uni.</td>\n",
       "      <td>9.004535e+07</td>\n",
       "      <td>1.178328e+08</td>\n",
       "      <td>2013.984252</td>\n",
       "      <td>6.288976</td>\n",
       "      <td>129320.181102</td>\n",
       "      <td>108.795276</td>\n",
       "      <td>5.568268e+07</td>\n",
       "    </tr>\n",
       "    <tr>\n",
       "      <th>207</th>\n",
       "      <td>WB</td>\n",
       "      <td>8.863143e+07</td>\n",
       "      <td>1.345151e+08</td>\n",
       "      <td>2013.790476</td>\n",
       "      <td>6.572381</td>\n",
       "      <td>200884.438095</td>\n",
       "      <td>113.009524</td>\n",
       "      <td>8.097619e+07</td>\n",
       "    </tr>\n",
       "    <tr>\n",
       "      <th>119</th>\n",
       "      <td>MGM</td>\n",
       "      <td>8.300000e+07</td>\n",
       "      <td>5.630000e+07</td>\n",
       "      <td>2014.000000</td>\n",
       "      <td>6.800000</td>\n",
       "      <td>113232.500000</td>\n",
       "      <td>115.500000</td>\n",
       "      <td>4.300000e+07</td>\n",
       "    </tr>\n",
       "    <tr>\n",
       "      <th>81</th>\n",
       "      <td>Fox</td>\n",
       "      <td>8.238718e+07</td>\n",
       "      <td>1.521484e+08</td>\n",
       "      <td>2013.811966</td>\n",
       "      <td>6.389744</td>\n",
       "      <td>153415.572650</td>\n",
       "      <td>108.829060</td>\n",
       "      <td>6.954615e+07</td>\n",
       "    </tr>\n",
       "    <tr>\n",
       "      <th>155</th>\n",
       "      <td>Par.</td>\n",
       "      <td>8.230891e+07</td>\n",
       "      <td>1.231057e+08</td>\n",
       "      <td>2014.000000</td>\n",
       "      <td>6.396250</td>\n",
       "      <td>184726.625000</td>\n",
       "      <td>110.637500</td>\n",
       "      <td>6.658250e+07</td>\n",
       "    </tr>\n",
       "    <tr>\n",
       "      <th>182</th>\n",
       "      <td>Sony</td>\n",
       "      <td>8.167023e+07</td>\n",
       "      <td>1.293161e+08</td>\n",
       "      <td>2013.987805</td>\n",
       "      <td>6.217073</td>\n",
       "      <td>134122.048780</td>\n",
       "      <td>110.012195</td>\n",
       "      <td>6.650488e+07</td>\n",
       "    </tr>\n",
       "    <tr>\n",
       "      <th>185</th>\n",
       "      <td>Sum.</td>\n",
       "      <td>5.172258e+07</td>\n",
       "      <td>6.649633e+07</td>\n",
       "      <td>2010.500000</td>\n",
       "      <td>6.416667</td>\n",
       "      <td>103950.750000</td>\n",
       "      <td>100.333333</td>\n",
       "      <td>3.415000e+07</td>\n",
       "    </tr>\n",
       "  </tbody>\n",
       "</table>\n",
       "</div>"
      ],
      "text/plain": [
       "      studio  domestic_gross_x  foreign_gross         year  averagerating  \\\n",
       "32        BV      1.683256e+08   2.483378e+08  2013.953488       6.943023   \n",
       "145     P/DW      1.682900e+08   3.393600e+08  2010.900000       6.760000   \n",
       "208  WB (NL)      9.119512e+07   1.418512e+08  2014.268293       6.268293   \n",
       "199     Uni.      9.004535e+07   1.178328e+08  2013.984252       6.288976   \n",
       "207       WB      8.863143e+07   1.345151e+08  2013.790476       6.572381   \n",
       "119      MGM      8.300000e+07   5.630000e+07  2014.000000       6.800000   \n",
       "81       Fox      8.238718e+07   1.521484e+08  2013.811966       6.389744   \n",
       "155     Par.      8.230891e+07   1.231057e+08  2014.000000       6.396250   \n",
       "182     Sony      8.167023e+07   1.293161e+08  2013.987805       6.217073   \n",
       "185     Sum.      5.172258e+07   6.649633e+07  2010.500000       6.416667   \n",
       "\n",
       "          numvotes  runtime_minutes  production_budget  \n",
       "32   213940.790698       112.383721       1.215267e+08  \n",
       "145  213462.000000       101.500000       1.334000e+08  \n",
       "208  144118.731707       109.219512       5.781951e+07  \n",
       "199  129320.181102       108.795276       5.568268e+07  \n",
       "207  200884.438095       113.009524       8.097619e+07  \n",
       "119  113232.500000       115.500000       4.300000e+07  \n",
       "81   153415.572650       108.829060       6.954615e+07  \n",
       "155  184726.625000       110.637500       6.658250e+07  \n",
       "182  134122.048780       110.012195       6.650488e+07  \n",
       "185  103950.750000       100.333333       3.415000e+07  "
      ]
     },
     "execution_count": 74,
     "metadata": {},
     "output_type": "execute_result"
    }
   ],
   "source": [
    "#grouping datafame by studio\n",
    "df_studio = df_final.groupby('studio', as_index=False).mean()\n",
    "\n",
    "#sorting values by domestic_gross\n",
    "df_studio.sort_values('domestic_gross_x', ascending=False, inplace=True)\n",
    "\n",
    "df_studio.head(10)"
   ]
  },
  {
   "cell_type": "code",
   "execution_count": 71,
   "metadata": {},
   "outputs": [
    {
     "data": {
      "image/png": "[encoded data removed]",
      "text/plain": [
       "<Figure size 720x360 with 1 Axes>"
      ]
     },
     "metadata": {
      "needs_background": "light"
     },
     "output_type": "display_data"
    }
   ],
   "source": [
    "#setting up plot \n",
    "fig, ax = plt.subplots(figsize=(10,5))\n",
    "ax = sns.barplot(x = 'studio',\n",
    "            y = 'domestic_gross_x',\n",
    "            data = df_studio.head(10)\n",
    "            )\n",
    "\n",
    "plt.title('Top 10 Studios by Domestic Revenue', fontsize=16)\n",
    "plt.xlabel('Studios', fontsize=14)\n",
    "plt.ylabel('Domestic Revenue in 100 Million Dollars', fontsize=14)\n",
    "\n",
    "#displaying the gridlines and setting width visibility to 0.25\n",
    "ax.grid(True, linewidth=0.25)\n",
    "\n",
    "# Show the plot\n",
    "plt.show()"
   ]
  },
  {
   "cell_type": "markdown",
   "metadata": {},
   "source": [
    "Studios `BV` and `PD` tops the list of Top 10 studios by Domestic Revenue. The films produced under the two studios yielded the highest returns whereas `Sum` closes the top performers list"
   ]
  },
  {
   "cell_type": "markdown",
   "metadata": {},
   "source": [
    "## Evaluation\n",
    "***\n",
    "* *Heatmap*\n",
    "\n",
    "Overall, the variables in the dataset are positively correlated(except for two instances of `year` that has **-ve annotations**) with some correlations being fairly stronger than others. This can be observed through the annotations in the heatmap plot. Positive values show positive correlation whereas the magnitude of the annotations indicate strength of correlation with `1.0` being the highest value.\n",
    "\n",
    "In the case of `production_budget`, `foreign_gross` and `domestic_gross_x` for example, the correlation is moderately strong. \n",
    "\n",
    "* *Scatter plot*\n",
    "\n",
    "The points in the plot appear to be grouped in a manner that shows an upward trend from the origin (0,0). This is an indication that `domestic_gross_x` and `foreign_gross` are positively correlated.\n",
    "\n",
    "Whenever `domestic_gross_x` increased, there appear to be a corresponding increment in `foreign_gross` as well. It is also worth noting the increasing number of dark spots representing `production_budget` as the spots spread away from the origin.\n",
    "\n",
    "* *Top 10 Genres by Domestic Revenue*\n",
    "\n",
    " From the visualization, (Adventure, Drama, Sport) genres show the highest sales observed domestically by a significant margin, followed by (Action, Adventure, Sci-Fi) whereas\n",
    " (Adventure, Mystery, Sci-Fi) recorded the lowest sales domestically.\n",
    "\n",
    "* *Genres Distribution*\n",
    "\n",
    "A great majority of films made are seen to have the genre 'drama' by a big margin, followed by 'comedy' and 'action' films. 'Sport' and 'News' closes the list\n",
    "\n",
    "* *Top genres by Ratings*\n",
    "\n",
    "Action, sport and Documentary, History, War genres are rated to be the most popular in terms of rating. This ratings however seeks further clarity since the data might be from a smaller number of votes and therefore might easily create the element of bias in the analysis and therefore not give a true depiction of what is popular to the viewers.\n",
    "As a result, further investigation is done on number of votes and from the visualization, there is a huge variation of number of counts with the respective genres. The `ratings` therefore might not be a proper presentation of how popular a film genre is since the rating, as seen from the visualization might be from a smaller group of viewers.\n",
    "\n",
    "* *Genre Distribution*\n",
    "\n",
    "Majority of the films are roughly an hour and a half long\n",
    "\n",
    "* *Studio Performance*\n",
    "\n",
    "Studios `BV` and `PD` tops the list of Top 10 studios by Domestic Revenue. The films produced under the two studios yielded the highest returns whereas `Sum` closes the top performers list"
   ]
  },
  {
   "cell_type": "markdown",
   "metadata": {},
   "source": [
    "## Conclusions\n",
    "***\n",
    "Based on the results of the analysis it appears to be more profitable for Microsoft to engage in films genres that featured in the top 10 categories using film samples produced by some of the top studios to learn what makes them standout in the film industry.\n",
    "Production budgets is also estimated to be around 50,000 dollars to around 410 million dollars(min-max generated from descriptive statistics).\n",
    "Something worth noting also is the fact that Adventure, Drama, Sci-Fi ranked 3rd in terms of rating but had the highest number of votes count but a staggering majority, we can conclusively say it's easily the most popular genres by numbers despite not appearing as the first, in addition, the difference in rating in quite small.\n",
    "\n",
    "It might also be important to consider data on `budget` and `domestic gross` might not be the actual representation of the real values given the fact that the data had quite a number of missing values and therefore this analysis is more of an estimate of the real figures. During the analysis process, I observed cases where similar movies had varying data across the different sources such as different runtime minutes, production budgets, genres and foreign gross. \n",
    "\n",
    "This analysis alone might not be sufficient to film production since it only offers insight based on general descriptive data and not technical bit of production.\n"
   ]
  }
 ],
 "metadata": {
  "kernelspec": {
   "display_name": "learn-env",
   "language": "python",
   "name": "python3"
  },
  "language_info": {
   "codemirror_mode": {
    "name": "ipython",
    "version": 3
   },
   "file_extension": ".py",
   "mimetype": "text/x-python",
   "name": "python",
   "nbconvert_exporter": "python",
   "pygments_lexer": "ipython3",
   "version": "3.8.5"
  },
  "orig_nbformat": 4
 },
 "nbformat": 4,
 "nbformat_minor": 2
}
